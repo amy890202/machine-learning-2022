{
 "cells": [
  {
   "cell_type": "code",
   "execution_count": 1,
   "metadata": {},
   "outputs": [],
   "source": [
    "import numpy as np\n",
    "import pandas as pd\n",
    "import matplotlib.pyplot as plt\n",
    "import seaborn as sns\n",
    "import warnings\n",
    "warnings.filterwarnings('ignore')\n",
    "%matplotlib inline\n",
    "plt.style.use('ggplot')\n",
    "\n"
   ]
  },
  {
   "cell_type": "code",
   "execution_count": 2,
   "metadata": {},
   "outputs": [],
   "source": [
    "train = pd.read_csv(\"train-v3.csv\", encoding = \"ISO-8859-1\", engine='python')\n",
    "test = pd.read_csv(\"test-v3.csv\", encoding = \"ISO-8859-1\", engine='python')\n",
    "valid =  pd.read_csv(\"valid-v3.csv\", encoding = \"ISO-8859-1\", engine='python')"
   ]
  },
  {
   "cell_type": "code",
   "execution_count": 3,
   "metadata": {},
   "outputs": [
    {
     "name": "stdout",
     "output_type": "stream",
     "text": [
      "Empty DataFrame\n",
      "Columns: [id, price, sale_yr, sale_month, sale_day, bedrooms, bathrooms, sqft_living, sqft_lot, floors, waterfront, view, condition, grade, sqft_above, sqft_basement, yr_built, yr_renovated, zipcode, lat, long, sqft_living15, sqft_lot15]\n",
      "Index: []\n",
      "\n",
      "[0 rows x 23 columns]\n",
      "                     id     price   sale_yr  sale_month  sale_day  bedrooms  \\\n",
      "id             1.000000  0.003376  0.009090   -0.010033  0.001005  0.002077   \n",
      "price          0.003376  1.000000  0.006183   -0.018766 -0.010538  0.262559   \n",
      "sale_yr        0.009090  0.006183  1.000000   -0.684712  0.000948  0.000867   \n",
      "sale_month    -0.010033 -0.018766 -0.684712    1.000000 -0.045769 -0.007086   \n",
      "sale_day       0.001005 -0.010538  0.000948   -0.045769  1.000000 -0.003637   \n",
      "bedrooms       0.002077  0.262559  0.000867   -0.007086 -0.003637  1.000000   \n",
      "bathrooms      0.009817  0.373276 -0.011321   -0.004969  0.001236  0.439622   \n",
      "sqft_living   -0.001239  0.463471 -0.016969    0.001074 -0.002042  0.521536   \n",
      "sqft_lot      -0.082001  0.048146 -0.000184   -0.006068  0.000040  0.171797   \n",
      "floors         0.017388  0.239422 -0.017584    0.008810 -0.002655  0.191607   \n",
      "waterfront    -0.003183  0.096571  0.002698   -0.001250  0.006598 -0.007693   \n",
      "view           0.013876  0.243647  0.003218   -0.007673  0.008349  0.076927   \n",
      "condition     -0.022833  0.017975 -0.038327    0.019657  0.003678  0.007450   \n",
      "grade          0.015151  0.532683 -0.022825   -0.000678 -0.005373  0.336158   \n",
      "sqft_above     0.001823  0.375595 -0.019012    0.004714  0.000512  0.432781   \n",
      "sqft_basement -0.002300  0.198126  0.001520   -0.004122 -0.009275  0.190438   \n",
      "yr_built       0.020495  0.075010 -0.000815   -0.005552 -0.002786  0.147410   \n",
      "yr_renovated  -0.013314  0.077189 -0.012949    0.004014  0.012424  0.013054   \n",
      "zipcode       -0.003403 -0.013592  0.007369   -0.003503 -0.010132 -0.130899   \n",
      "lat           -0.002547  0.296868 -0.021946    0.008544 -0.000029 -0.018097   \n",
      "long           0.001926  0.042676 -0.001049   -0.004676 -0.001486  0.150843   \n",
      "sqft_living15 -0.004055  0.407073 -0.013159   -0.001826 -0.002089  0.344612   \n",
      "sqft_lot15    -0.081275  0.038954  0.001227   -0.009166  0.004638  0.158913   \n",
      "\n",
      "               bathrooms  sqft_living  sqft_lot    floors  ...     grade  \\\n",
      "id              0.009817    -0.001239 -0.082001  0.017388  ...  0.015151   \n",
      "price           0.373276     0.463471  0.048146  0.239422  ...  0.532683   \n",
      "sale_yr        -0.011321    -0.016969 -0.000184 -0.017584  ... -0.022825   \n",
      "sale_month     -0.004969     0.001074 -0.006068  0.008810  ... -0.000678   \n",
      "sale_day        0.001236    -0.002042  0.000040 -0.002655  ... -0.005373   \n",
      "bedrooms        0.439622     0.521536  0.171797  0.191607  ...  0.336158   \n",
      "bathrooms       1.000000     0.587581  0.058153  0.491815  ...  0.561707   \n",
      "sqft_living     0.587581     1.000000  0.211608  0.324473  ...  0.588982   \n",
      "sqft_lot        0.058153     0.211608  1.000000 -0.157294  ...  0.118895   \n",
      "floors          0.491815     0.324473 -0.157294  1.000000  ...  0.468898   \n",
      "waterfront      0.045305     0.059277  0.077030  0.020361  ...  0.059986   \n",
      "view            0.141890     0.193060  0.101862  0.016417  ...  0.204150   \n",
      "condition      -0.140590    -0.049935  0.085543 -0.306144  ... -0.149283   \n",
      "grade           0.561707     0.588982  0.118895  0.468898  ...  1.000000   \n",
      "sqft_above      0.528846     0.697759  0.193305  0.466326  ...  0.580958   \n",
      "sqft_basement   0.156394     0.267771  0.025635 -0.227113  ...  0.084076   \n",
      "yr_built        0.433570     0.246208  0.000531  0.527703  ...  0.389808   \n",
      "yr_renovated    0.038559     0.041159  0.013122 -0.009699  ...  0.009024   \n",
      "zipcode        -0.148050    -0.140599 -0.198822 -0.086458  ... -0.142007   \n",
      "lat             0.006112     0.023645 -0.083381  0.012363  ...  0.078533   \n",
      "long            0.192309     0.194191  0.255648  0.160189  ...  0.170062   \n",
      "sqft_living15   0.432375     0.571000  0.246862  0.265700  ...  0.540892   \n",
      "sqft_lot15      0.052818     0.196377  0.791556 -0.149884  ...  0.120706   \n",
      "\n",
      "               sqft_above  sqft_basement  yr_built  yr_renovated   zipcode  \\\n",
      "id               0.001823      -0.002300  0.020495     -0.013314 -0.003403   \n",
      "price            0.375595       0.198126  0.075010      0.077189 -0.013592   \n",
      "sale_yr         -0.019012       0.001520 -0.000815     -0.012949  0.007369   \n",
      "sale_month       0.004714      -0.004122 -0.005552      0.004014 -0.003503   \n",
      "sale_day         0.000512      -0.009275 -0.002786      0.012424 -0.010132   \n",
      "bedrooms         0.432781       0.190438  0.147410      0.013054 -0.130899   \n",
      "bathrooms        0.528846       0.156394  0.433570      0.038559 -0.148050   \n",
      "sqft_living      0.697759       0.267771  0.246208      0.041159 -0.140599   \n",
      "sqft_lot         0.193305       0.025635  0.000531      0.013122 -0.198822   \n",
      "floors           0.466326      -0.227113  0.527703     -0.009699 -0.086458   \n",
      "waterfront       0.045065       0.053072 -0.026022      0.108432  0.026914   \n",
      "view             0.118680       0.223481 -0.053690      0.101163  0.062940   \n",
      "condition       -0.124755       0.141324 -0.324151     -0.056985 -0.015683   \n",
      "grade            0.580958       0.084076  0.389808      0.009024 -0.142007   \n",
      "sqft_above       1.000000      -0.116061  0.333215      0.024289 -0.185948   \n",
      "sqft_basement   -0.116061       1.000000 -0.126717      0.057599  0.089343   \n",
      "yr_built         0.333215      -0.126717  1.000000     -0.170753 -0.187762   \n",
      "yr_renovated     0.024289       0.057599 -0.170753      1.000000  0.042521   \n",
      "zipcode         -0.185948       0.089343 -0.187762      0.042521  1.000000   \n",
      "lat             -0.014716       0.089804 -0.081349      0.008594  0.176567   \n",
      "long             0.265669      -0.145326  0.299521     -0.051943 -0.365753   \n",
      "sqft_living15    0.515837       0.105766  0.232646      0.000256 -0.189773   \n",
      "sqft_lot15       0.180311       0.019257  0.010667      0.019091 -0.198984   \n",
      "\n",
      "                    lat      long  sqft_living15  sqft_lot15  \n",
      "id            -0.002547  0.001926      -0.004055   -0.081275  \n",
      "price          0.296868  0.042676       0.407073    0.038954  \n",
      "sale_yr       -0.021946 -0.001049      -0.013159    0.001227  \n",
      "sale_month     0.008544 -0.004676      -0.001826   -0.009166  \n",
      "sale_day      -0.000029 -0.001486      -0.002089    0.004638  \n",
      "bedrooms      -0.018097  0.150843       0.344612    0.158913  \n",
      "bathrooms      0.006112  0.192309       0.432375    0.052818  \n",
      "sqft_living    0.023645  0.194191       0.571000    0.196377  \n",
      "sqft_lot      -0.083381  0.255648       0.246862    0.791556  \n",
      "floors         0.012363  0.160189       0.265700   -0.149884  \n",
      "waterfront    -0.017416 -0.038179       0.066191    0.084837  \n",
      "view           0.006387 -0.083496       0.213838    0.102956  \n",
      "condition     -0.009911 -0.075018      -0.068178    0.087476  \n",
      "grade          0.078533  0.170062       0.540892    0.120706  \n",
      "sqft_above    -0.014716  0.265669       0.515837    0.180311  \n",
      "sqft_basement  0.089804 -0.145326       0.105766    0.019257  \n",
      "yr_built      -0.081349  0.299521       0.232646    0.010667  \n",
      "yr_renovated   0.008594 -0.051943       0.000256    0.019091  \n",
      "zipcode        0.176567 -0.365753      -0.189773   -0.198984  \n",
      "lat            1.000000 -0.096781       0.019604   -0.079774  \n",
      "long          -0.096781  1.000000       0.253389    0.257312  \n",
      "sqft_living15  0.019604  0.253389       1.000000    0.250743  \n",
      "sqft_lot15    -0.079774  0.257312       0.250743    1.000000  \n",
      "\n",
      "[23 rows x 23 columns]\n"
     ]
    }
   ],
   "source": [
    "print(train[train.isnull().T.any()])#檢查是否有空值，並印出有空值的行\n",
    "\n",
    "print(train.corr(method='kendall'))"
   ]
  },
  {
   "cell_type": "code",
   "execution_count": 4,
   "metadata": {},
   "outputs": [
    {
     "name": "stdout",
     "output_type": "stream",
     "text": [
      "(12967, 21)\n"
     ]
    }
   ],
   "source": [
    "train_y = train.iloc[0:,1:2]\n",
    "valid_y = valid.iloc[0:,1:2]\n",
    "train_x = train.drop(columns= [\"price\",\"id\"])\n",
    "valid_x = valid.drop(columns= [\"price\",\"id\"])\n",
    "test_id = test[\"id\"].values.tolist()\n",
    "#print(test_id)\n",
    "test_x = test.drop(columns= [\"id\"])\n",
    "print(train_x.shape)\n",
    "# test_x.shape\n",
    "# valid_x.shape\n",
    "# train_x\n",
    "# if train_x[\"renovation\"]==0:\n",
    "#     print(train_x[\"yr_built\"])\n",
    "def renovate(df):\n",
    "    #df = train_x\n",
    "    count = 0 \n",
    "    for a in df[\"yr_renovated\"]:\n",
    "        #print(count)\n",
    "        if a == 0:\n",
    "            df[\"yr_renovated\"][count] = df[\"yr_built\"][count]\n",
    "        count=count+1\n",
    "\n",
    "    #     if i[\"yr_renovated\"]==0:\n",
    "    #         i[\"yr_renovated\"] = i[\"yr_built\"]\n",
    "    df[\"yr_renovated\"][99]\n",
    "    return df\n",
    "train_x =  renovate(train_x)\n",
    "valid_x =  renovate(valid_x)\n",
    "test_x =  renovate(test_x)\n",
    "\n",
    "# from sklearn.preprocessing import OneHotEncoder\n",
    "# onehotencoder = OneHotEncoder(categorical_features = [0])\n",
    "# data_str_ohe=onehotencoder.fit_transform(data_le).toarray()\n",
    "# pd.DataFrame(data_str_ohe)\n",
    "\n",
    "def zipcode(df):\n",
    "    df_dum=pd.get_dummies(df['zipcode'])\n",
    "    #print(df_dum.shape)\n",
    "    df.drop(columns= [\"zipcode\"])\n",
    "    df_new=pd.concat([df,df_dum],axis=1)\n",
    "    return df_new\n",
    "\n",
    "train_x =  zipcode(train_x)\n",
    "valid_x =  zipcode(valid_x)\n",
    "test_x =  zipcode(test_x)\n"
   ]
  },
  {
   "cell_type": "code",
   "execution_count": 5,
   "metadata": {},
   "outputs": [],
   "source": [
    "\n",
    "def drop(df_date):\n",
    "    df_date = df_date.drop(columns= [\"sale_yr\", \"sale_month\",\"sale_day\",\"condition\",\"sqft_lot15\"])  \n",
    "    return df_date\n",
    "train_x = drop(train_x)\n",
    "test_x = drop(test_x)\n",
    "valid_x = drop(valid_x)\n",
    "from sklearn import preprocessing\n",
    "#建立MinMaxScaler物件\n",
    "minmax = preprocessing.MinMaxScaler()#新資料=（原資料-最小值）/（最大值-最小值）\n",
    "# 資料標準化\n",
    "train_x = minmax.fit_transform(train_x)\n",
    "test_x = minmax.fit_transform(test_x)\n",
    "valid_x = minmax.fit_transform(valid_x)\n",
    "\n",
    "\n",
    "#data['sepal length (cm)'] = (data['sepal length (cm)'] - data['sepal length (cm)'].min())/\\(data['sepal length (cm)'].max() - data['sepal length (cm)'].mi\n",
    "#data['sepal width (cm)'] = (data['sepal width (cm)'] - data['sepal width (cm)'].mean())/\\(data['sepal width (cm)'].std())\n",
    "#data.head()"
   ]
  },
  {
   "cell_type": "code",
   "execution_count": 20,
   "metadata": {},
   "outputs": [
    {
     "name": "stdout",
     "output_type": "stream",
     "text": [
      "Processing Fold #0\n",
      "Epoch 1/150\n",
      "541/541 [==============================] - 1s 2ms/step - loss: 182365487104.0000 - mae: 283506.0938 - val_loss: 66449444864.0000 - val_mae: 134290.9844\n",
      "Epoch 2/150\n",
      "541/541 [==============================] - 2s 3ms/step - loss: 56401481728.0000 - mae: 142790.0781 - val_loss: 37825888256.0000 - val_mae: 100214.2812\n",
      "Epoch 3/150\n",
      "541/541 [==============================] - 1s 2ms/step - loss: 42656985088.0000 - mae: 128478.5703 - val_loss: 30285690880.0000 - val_mae: 95059.1016\n",
      "Epoch 4/150\n",
      "541/541 [==============================] - 1s 2ms/step - loss: 38816403456.0000 - mae: 123400.0391 - val_loss: 31257729024.0000 - val_mae: 97430.1953\n",
      "136/136 [==============================] - 0s 927us/step - loss: 31257724928.0000 - mae: 97430.1484\n",
      "Processing Fold #1\n",
      "Epoch 1/150\n",
      "541/541 [==============================] - 1s 2ms/step - loss: 180780220416.0000 - mae: 281648.9688 - val_loss: 64197423104.0000 - val_mae: 142958.4375\n",
      "Epoch 2/150\n",
      "541/541 [==============================] - 1s 2ms/step - loss: 59569016832.0000 - mae: 144030.3125 - val_loss: 31903645696.0000 - val_mae: 100347.9141\n",
      "Epoch 3/150\n",
      "541/541 [==============================] - 1s 2ms/step - loss: 46566420480.0000 - mae: 130331.6016 - val_loss: 25007007744.0000 - val_mae: 91745.2344\n",
      "Epoch 4/150\n",
      "541/541 [==============================] - 1s 2ms/step - loss: 41666248704.0000 - mae: 124051.2734 - val_loss: 24066676736.0000 - val_mae: 87696.2109\n",
      "Epoch 5/150\n",
      "541/541 [==============================] - 1s 2ms/step - loss: 37470953472.0000 - mae: 117780.9219 - val_loss: 24915116032.0000 - val_mae: 96448.4922\n",
      "136/136 [==============================] - 0s 1ms/step - loss: 24915109888.0000 - mae: 96448.5000\n",
      "Processing Fold #2\n",
      "Epoch 1/150\n",
      "541/541 [==============================] - 2s 4ms/step - loss: 175575220224.0000 - mae: 279779.9375 - val_loss: 67398492160.0000 - val_mae: 153801.3125\n",
      "Epoch 2/150\n",
      "541/541 [==============================] - 1s 3ms/step - loss: 55100772352.0000 - mae: 141507.2969 - val_loss: 37970747392.0000 - val_mae: 104130.7891\n",
      "Epoch 3/150\n",
      "541/541 [==============================] - 2s 3ms/step - loss: 44488593408.0000 - mae: 126557.0156 - val_loss: 36513710080.0000 - val_mae: 101717.3203\n",
      "Epoch 4/150\n",
      "541/541 [==============================] - 2s 3ms/step - loss: 39926935552.0000 - mae: 120770.5547 - val_loss: 28906254336.0000 - val_mae: 91321.6953\n",
      "Epoch 5/150\n",
      "541/541 [==============================] - 1s 2ms/step - loss: 37435703296.0000 - mae: 118018.4766 - val_loss: 26814554112.0000 - val_mae: 87935.8125\n",
      "Epoch 6/150\n",
      "541/541 [==============================] - 2s 3ms/step - loss: 33805424640.0000 - mae: 114571.0078 - val_loss: 24742318080.0000 - val_mae: 85576.9766\n",
      "Epoch 7/150\n",
      "541/541 [==============================] - 1s 3ms/step - loss: 31175821312.0000 - mae: 111870.3438 - val_loss: 25119979520.0000 - val_mae: 86400.4922\n",
      "136/136 [==============================] - 0s 1ms/step - loss: 25119981568.0000 - mae: 86400.4609\n",
      "MSE_kfold:  27097605461.333332\n",
      "MAE_kfold:  93426.36979166667\n",
      "406/406 [==============================] - 0s 1ms/step - loss: 21821444096.0000 - mae: 83014.7188\n",
      "MSE_train:  21821444096.0\n",
      "MAE_train:  83014.71875\n",
      "68/68 [==============================] - 0s 1ms/step - loss: 30815406080.0000 - mae: 110384.9922\n",
      "MSE_valid:  30815406080.0\n",
      "MAE_valid:  110384.9921875\n"
     ]
    }
   ],
   "source": [
    "from keras import Sequential\n",
    "from keras.callbacks import EarlyStopping\n",
    "from keras.layers import Dense\n",
    "from keras.layers import Dropout\n",
    "from matplotlib import pyplot as plt\n",
    "earlystop_callback = EarlyStopping(monitor='val_mae',min_delta=0.0001,patience=1)\n",
    "\n",
    "def build_deep_model():\n",
    "    model = Sequential()\n",
    "    model.add(Dense(128, input_shape=(train_x.shape[1],), activation=\"relu\"))\n",
    "    model.add(Dropout(0.2))\n",
    "    model.add(Dense(64, activation=\"relu\"))\n",
    "    model.add(Dropout(0.2))\n",
    "    model.add(Dense(32, activation=\"relu\"))\n",
    "    model.add(Dropout(0.1))\n",
    "    model.add(Dense(16, activation=\"relu\"))\n",
    "    model.add(Dropout(0.1))\n",
    "    model.add(Dense(16, activation=\"relu\"))\n",
    "    model.add(Dropout(0.1))\n",
    "    model.add(Dense(16, activation=\"relu\"))\n",
    "    #odel.add(Dropout(0.1))\n",
    "    model.add(Dense(8, activation=\"relu\"))\n",
    "    #model.add(Dropout(0.1))\n",
    "    model.add(Dense(8, activation=\"relu\"))\n",
    "    #model.add(Dropout(0.1))\n",
    "    model.add(Dense(8, activation=\"relu\"))\n",
    "    #model.add(Dropout(0.1))\n",
    "    model.add(Dense(8, activation=\"relu\"))\n",
    "    #model.add(Dropout(0.1))\n",
    "    model.add(Dense(1))\n",
    "    # 編譯模型\n",
    "    model.compile(loss=\"mse\", optimizer=\"adam\",\n",
    "    metrics=[\"mae\"])\n",
    "    return model\n",
    "k = 3\n",
    "nb_val_samples = len(train_x) // k\n",
    "nb_epochs = 150\n",
    "mse_scores = []\n",
    "mae_scores = []\n",
    "for i in range(k):\n",
    "    print(\"Processing Fold #\" + str(i))\n",
    "    # 取出驗證資料集\n",
    "    X_val = train_x[i*nb_val_samples: (i+1)*nb_val_samples]\n",
    "    Y_val = train_y[i*nb_val_samples: (i+1)*nb_val_samples]\n",
    "    # 結合出訓練資料集\n",
    "    X_train_p = np.concatenate(\n",
    "    [train_x[:i*nb_val_samples],\n",
    "    train_x[(i+1)*nb_val_samples:]], axis=0)\n",
    "    Y_train_p = np.concatenate(\n",
    "    [train_y[:i*nb_val_samples],\n",
    "    train_y[(i+1)*nb_val_samples:]], axis=0)\n",
    "    model = build_deep_model()\n",
    "    # 訓練模型\n",
    "    history = model.fit(X_train_p, Y_train_p, epochs=nb_epochs,callbacks=[earlystop_callback],validation_data = (X_val, Y_val),\n",
    "    validation_freq=1,batch_size=16, verbose=1)\n",
    "    # 評估模型\n",
    "    #plot(history)\n",
    "    mse, mae = model.evaluate(X_val, Y_val)\n",
    "    mse_scores.append(mse)\n",
    "    mae_scores.append(mae)\n",
    "print(\"MSE_kfold: \", np.mean(mse_scores))\n",
    "print(\"MAE_kfold: \", np.mean(mae_scores))\n",
    "\n",
    "mse, mae = model.evaluate(train_x, train_y)\n",
    "print(\"MSE_train: \", mse)\n",
    "print(\"MAE_train: \", mae)\n",
    "# 使用測試資料評估模型\n",
    "mse, mae = model.evaluate(valid_x, valid_y)\n",
    "print(\"MSE_valid: \", mse)\n",
    "print(\"MAE_valid: \", mae)"
   ]
  },
  {
   "cell_type": "code",
   "execution_count": null,
   "metadata": {},
   "outputs": [],
   "source": [
    "# from keras import Sequential\n",
    "# from keras.callbacks import EarlyStopping\n",
    "# from keras.layers import Dense\n",
    "# from keras.layers import Dropout\n",
    "# from matplotlib import pyplot as plt\n",
    "# earlystop_callback = EarlyStopping(monitor='val_mae',min_delta=0.0001,patience=1)\n",
    "\n",
    "# #def build_deep_model():\n",
    "# model = Sequential()\n",
    "# model.add(Dense(128, input_shape=(train_x.shape[1],), activation=\"relu\"))\n",
    "# model.add(Dropout(0.2))\n",
    "# model.add(Dense(64, activation=\"relu\"))\n",
    "# model.add(Dropout(0.2))\n",
    "# model.add(Dense(32, activation=\"relu\"))\n",
    "# model.add(Dropout(0.1))\n",
    "# model.add(Dense(16, activation=\"relu\"))\n",
    "# model.add(Dropout(0.1))\n",
    "# model.add(Dense(16, activation=\"relu\"))\n",
    "# model.add(Dropout(0.1))\n",
    "# model.add(Dense(16, activation=\"relu\"))\n",
    "# model.add(Dropout(0.1))\n",
    "# model.add(Dense(8, activation=\"relu\"))\n",
    "# model.add(Dropout(0.1))\n",
    "# model.add(Dense(8, activation=\"relu\"))\n",
    "# #model.add(Dropout(0.1))\n",
    "# model.add(Dense(8, activation=\"relu\"))\n",
    "# #model.add(Dropout(0.1))\n",
    "# model.add(Dense(8, activation=\"relu\"))\n",
    "# #model.add(Dropout(0.1))\n",
    "# model.add(Dense(1))\n",
    "# # 編譯模型\n",
    "# model.compile(loss=\"mse\", optimizer=\"adam\",\n",
    "# metrics=[\"mae\"])\n",
    "\n",
    "# history = model.fit(train_x, train_y, epochs=150,callbacks=[earlystop_callback],validation_data = (valid_x, valid_y),\n",
    "# validation_freq=1,batch_size=16, verbose=1)\n",
    "# mse, mae = model.evaluate(train_x, train_y)\n",
    "# print(\"MSE_train: \", mse)\n",
    "# print(\"MAE_train: \", mae)\n",
    "# # 使用測試資料評估模型\n",
    "# mse, mae = model.evaluate(valid_x, valid_y)\n",
    "# print(\"MSE_valid: \", mse)\n",
    "# print(\"MAE_valid: \", mae)"
   ]
  },
  {
   "cell_type": "code",
   "execution_count": 8,
   "metadata": {},
   "outputs": [
    {
     "data": {
      "image/png": "[encoded data removed]",
      "text/plain": [
       "<Figure size 432x288 with 1 Axes>"
      ]
     },
     "metadata": {},
     "output_type": "display_data"
    }
   ],
   "source": [
    "\n",
    "def plot(history):\n",
    "    #print(history.history.keys())\n",
    "    plt.plot(history.history['mae'])\n",
    "    plt.plot(history.history['val_mae'])\n",
    "    plt.title('model mae')\n",
    "    plt.ylabel('mae')\n",
    "    plt.xlabel('epoch')\n",
    "    plt.legend(['train', 'val'], loc='upper left')\n",
    "    plt.show()\n",
    "plot(history)"
   ]
  },
  {
   "cell_type": "code",
   "execution_count": null,
   "metadata": {},
   "outputs": [],
   "source": []
  },
  {
   "cell_type": "code",
   "execution_count": 9,
   "metadata": {},
   "outputs": [
    {
     "name": "stdout",
     "output_type": "stream",
     "text": [
      "MAE price    117539.182809\n",
      "dtype: float64\n",
      "MAE price    92054.09375\n",
      "dtype: float32\n"
     ]
    }
   ],
   "source": [
    "\n",
    "\n",
    "def MAE(real, predict):\n",
    "    print('MAE',np.mean(abs(real[:len(predict)]  - predict)))\n",
    "y_pred_v = model.predict(valid_x)\n",
    "y_pred = model.predict(test_x)\n",
    "y_pred_train = model.predict(train_x)\n",
    "\n",
    "MAE(valid_y,y_pred_v)\n",
    "MAE(train_y,y_pred_train)\n"
   ]
  },
  {
   "cell_type": "code",
   "execution_count": 19,
   "metadata": {},
   "outputs": [
    {
     "data": {
      "text/plain": [
       "<matplotlib.legend.Legend at 0x177cd37b0d0>"
      ]
     },
     "execution_count": 19,
     "metadata": {},
     "output_type": "execute_result"
    },
    {
     "data": {
      "image/png": "[encoded data removed]",
      "text/plain": [
       "<Figure size 432x288 with 1 Axes>"
      ]
     },
     "metadata": {},
     "output_type": "display_data"
    }
   ],
   "source": [
    "\n",
    "for i in range(len(valid)):\n",
    "    valid['id'][i] = i\n",
    "valid_ans = []\n",
    "for i in y_pred_v:\n",
    "    valid_ans.append(int(round(i[0])))\n",
    "#print(train_ans)\n",
    "#print(train['price'])\n",
    "miny = min(np.concatenate([valid_ans,valid['price']]))\n",
    "maxy = max(np.concatenate([valid_ans,valid['price']]))\n",
    "#print(miny ,maxy)\n",
    "plt.axis([min(valid['id']), max(valid['id']), miny, maxy])\n",
    "#plt.xlim(min(train['id']), max(train['id']))\n",
    "#plt.ylim(miny, maxy)\n",
    "tick_arr = np.arange(miny, maxy,1000000) #產生刻度陣列(npArray 類似list)\n",
    "plt.yticks(tick_arr)\n",
    "plt.scatter(valid['id'], valid['price'], label='Real')\n",
    "plt.scatter(valid['id'], valid_ans, label='Predict')\n",
    "plt.xlabel('id')\n",
    "plt.ylabel('Price')\n",
    "plt.legend()\n",
    "\n",
    "\n"
   ]
  },
  {
   "cell_type": "code",
   "execution_count": 21,
   "metadata": {},
   "outputs": [
    {
     "name": "stdout",
     "output_type": "stream",
     "text": [
      "39197 7062500\n"
     ]
    },
    {
     "data": {
      "text/plain": [
       "<matplotlib.legend.Legend at 0x177d0653040>"
      ]
     },
     "execution_count": 21,
     "metadata": {},
     "output_type": "execute_result"
    },
    {
     "data": {
      "image/png": "[encoded data removed]",
      "text/plain": [
       "<Figure size 432x288 with 1 Axes>"
      ]
     },
     "metadata": {},
     "output_type": "display_data"
    }
   ],
   "source": [
    "for i in range(len(train)):\n",
    "    train['id'][i] = i\n",
    "train_ans = []\n",
    "for i in y_pred_train:\n",
    "    train_ans.append(int(round(i[0])))\n",
    "#print(train_ans)\n",
    "#print(train['price'])\n",
    "miny = min(np.concatenate([train_ans,train['price']]))\n",
    "maxy = max(np.concatenate([train_ans,train['price']]))\n",
    "print(miny ,maxy)\n",
    "plt.axis([min(train['id']), max(train['id']), miny, maxy])\n",
    "#plt.xlim(min(train['id']), max(train['id']))\n",
    "#plt.ylim(miny, maxy)\n",
    "tick_arr = np.arange(miny, maxy,1000000) #產生刻度陣列(npArray 類似list)\n",
    "plt.yticks(tick_arr)\n",
    "plt.scatter(train['id'], train['price'], label='Real')\n",
    "plt.scatter(train['id'], train_ans, label='Predict')\n",
    "plt.xlabel('id')\n",
    "plt.ylabel('Price')\n",
    "plt.legend()"
   ]
  },
  {
   "cell_type": "code",
   "execution_count": 22,
   "metadata": {},
   "outputs": [],
   "source": [
    "#print(y_pred)\n",
    "submit_ans = []\n",
    "for i in y_pred:\n",
    "    submit_ans.append(int(round(i[0])))\n",
    "submit_ans\n",
    "#MAE(valid_y,submit_ans)\n",
    "import csv\n",
    "\n",
    "# co_id_np = np.array(co_id)\n",
    "# year_np = np.array(year)\n",
    "\n",
    "# data = np.array([co_id_np, year_np])\n",
    "\n",
    "# np.savetxt(\"sample.csv\", data.T, fmt='%s', delimiter='\\t')\n",
    "    \n",
    "    \n",
    "#with open('submit.csv', 'w', newline='',encoding='UTF-8-sig') as test_file:\n",
    "with open('311581024.csv', 'w', newline='') as csvfile:\n",
    "    writer = csv.writer(csvfile)\n",
    "    writer.writerow(['id', 'price'])\n",
    "    for x,y in zip (test_id,submit_ans):\n",
    "        writer.writerow([x,y])"
   ]
  },
  {
   "cell_type": "code",
   "execution_count": null,
   "metadata": {},
   "outputs": [],
   "source": []
  }
 ],
 "metadata": {
  "kernelspec": {
   "display_name": "Python 3",
   "language": "python",
   "name": "python3"
  },
  "language_info": {
   "codemirror_mode": {
    "name": "ipython",
    "version": 3
   },
   "file_extension": ".py",
   "mimetype": "text/x-python",
   "name": "python",
   "nbconvert_exporter": "python",
   "pygments_lexer": "ipython3",
   "version": "3.8.3"
  },
  "varInspector": {
   "cols": {
    "lenName": 16,
    "lenType": 16,
    "lenVar": 40
   },
   "kernels_config": {
    "python": {
     "delete_cmd_postfix": "",
     "delete_cmd_prefix": "del ",
     "library": "var_list.py",
     "varRefreshCmd": "print(var_dic_list())"
    },
    "r": {
     "delete_cmd_postfix": ") ",
     "delete_cmd_prefix": "rm(",
     "library": "var_list.r",
     "varRefreshCmd": "cat(var_dic_list()) "
    }
   },
   "types_to_exclude": [
    "module",
    "function",
    "builtin_function_or_method",
    "instance",
    "_Feature"
   ],
   "window_display": false
  }
 },
 "nbformat": 4,
 "nbformat_minor": 4
}
